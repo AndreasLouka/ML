{
 "cells": [
  {
   "cell_type": "markdown",
   "metadata": {
    "slideshow": {
     "slide_type": "slide"
    }
   },
   "source": [
    "# Basis Functions\n",
    "\n",
    "### Neil D. Lawrence"
   ]
  },
  {
   "cell_type": "code",
   "execution_count": 14,
   "metadata": {
    "collapsed": false,
    "slideshow": {
     "slide_type": "skip"
    }
   },
   "outputs": [
    {
     "ename": "ImportError",
     "evalue": "No module named 'mlai'",
     "output_type": "error",
     "traceback": [
      "\u001b[0;31m---------------------------------------------------------------------------\u001b[0m",
      "\u001b[0;31mImportError\u001b[0m                               Traceback (most recent call last)",
      "\u001b[0;32m<ipython-input-14-35cec8c27c03>\u001b[0m in \u001b[0;36m<module>\u001b[0;34m()\u001b[0m\n\u001b[1;32m      1\u001b[0m \u001b[0;32mimport\u001b[0m \u001b[0mpods\u001b[0m\u001b[0;34m\u001b[0m\u001b[0m\n\u001b[0;32m----> 2\u001b[0;31m \u001b[0;32mimport\u001b[0m \u001b[0mmlai\u001b[0m\u001b[0;34m\u001b[0m\u001b[0m\n\u001b[0m\u001b[1;32m      3\u001b[0m \u001b[0;32mfrom\u001b[0m \u001b[0mmatplotlib\u001b[0m \u001b[0;32mimport\u001b[0m \u001b[0mpyplot\u001b[0m \u001b[0;32mas\u001b[0m \u001b[0mplt\u001b[0m\u001b[0;34m\u001b[0m\u001b[0m\n\u001b[1;32m      4\u001b[0m \u001b[0;32mimport\u001b[0m \u001b[0mnumpy\u001b[0m \u001b[0;32mas\u001b[0m \u001b[0mnp\u001b[0m\u001b[0;34m\u001b[0m\u001b[0m\n\u001b[1;32m      5\u001b[0m \u001b[0;32mimport\u001b[0m \u001b[0mscipy\u001b[0m \u001b[0;32mas\u001b[0m \u001b[0msp\u001b[0m\u001b[0;34m\u001b[0m\u001b[0m\n",
      "\u001b[0;31mImportError\u001b[0m: No module named 'mlai'"
     ]
    }
   ],
   "source": [
    "import pods\n",
    "import mlai\n",
    "from matplotlib import pyplot as plt\n",
    "import numpy as np\n",
    "import scipy as sp\n",
    "import teaching_plots as plot\n",
    "%matplotlib inline"
   ]
  },
  {
   "cell_type": "markdown",
   "metadata": {
    "slideshow": {
     "slide_type": "slide"
    }
   },
   "source": [
    "### Review\n",
    "- Last time: explored least squares for univariate and multivariate regression.\n",
    "- Introduced matrices, linear algebra and derivatives.\n",
    "- This time: introduce *basis functions* for non-linear regression models."
   ]
  },
  {
   "cell_type": "markdown",
   "metadata": {
    "slideshow": {
     "slide_type": "slide"
    }
   },
   "source": [
    "### Nonlinear Regression\n",
    "\n",
    "-   Problem with Linear Regression—$\\mathbf{x}$ may not be linearly\n",
    "    related to $\\mathbf{y}$.\n",
    "\n",
    "-   Potential solution: create a feature space: define\n",
    "    $\\phi(\\mathbf{x})$ where $\\phi(\\cdot)$ is a\n",
    "    nonlinear function of $\\mathbf{x}$.\n",
    "\n",
    "-   Model for target is a linear combination of these nonlinear\n",
    "    functions\n",
    "    $$f(\\mathbf{x}) = \\sum_{j=1}^k w_j \\phi_j(\\mathbf{x})$$"
   ]
  },
  {
   "cell_type": "code",
   "execution_count": 6,
   "metadata": {
    "collapsed": false,
    "slideshow": {
     "slide_type": "skip"
    }
   },
   "outputs": [
    {
     "ename": "NameError",
     "evalue": "name 'plt' is not defined",
     "output_type": "error",
     "traceback": [
      "\u001b[0;31m---------------------------------------------------------------------------\u001b[0m",
      "\u001b[0;31mNameError\u001b[0m                                 Traceback (most recent call last)",
      "\u001b[0;32m<ipython-input-6-cb1c90113e17>\u001b[0m in \u001b[0;36m<module>\u001b[0;34m()\u001b[0m\n\u001b[0;32m----> 1\u001b[0;31m \u001b[0mf\u001b[0m\u001b[0;34m,\u001b[0m \u001b[0max\u001b[0m \u001b[0;34m=\u001b[0m \u001b[0mplt\u001b[0m\u001b[0;34m.\u001b[0m\u001b[0msubplots\u001b[0m\u001b[0;34m(\u001b[0m\u001b[0mfigsize\u001b[0m\u001b[0;34m=\u001b[0m\u001b[0;34m(\u001b[0m\u001b[0;36m7\u001b[0m\u001b[0;34m,\u001b[0m \u001b[0;36m7\u001b[0m\u001b[0;34m)\u001b[0m\u001b[0;34m)\u001b[0m\u001b[0;34m\u001b[0m\u001b[0m\n\u001b[0m\u001b[1;32m      2\u001b[0m \u001b[0;34m\u001b[0m\u001b[0m\n\u001b[1;32m      3\u001b[0m loc =[[0, 1.4,],\n\u001b[1;32m      4\u001b[0m       \u001b[0;34m[\u001b[0m\u001b[0;36m0\u001b[0m\u001b[0;34m,\u001b[0m \u001b[0;34m-\u001b[0m\u001b[0;36m0.7\u001b[0m\u001b[0;34m]\u001b[0m\u001b[0;34m,\u001b[0m\u001b[0;34m\u001b[0m\u001b[0m\n\u001b[1;32m      5\u001b[0m       [0.75, -0.2]]\n",
      "\u001b[0;31mNameError\u001b[0m: name 'plt' is not defined"
     ]
    }
   ],
   "source": [
    "f, ax = plt.subplots(figsize=(7, 7))\n",
    "\n",
    "loc =[[0, 1.4,],\n",
    "      [0, -0.7],\n",
    "      [0.75, -0.2]]\n",
    "text =['$\\phi(x) = 1$',\n",
    "       '$\\phi(x) = x$',\n",
    "       '$\\phi(x) = x^2$']\n",
    "mlai.plot_basis(mlai.polynomial, x_min=-1.3, x_max=1.3, fig=f, ax=ax, loc=loc, text=text)    \n"
   ]
  },
  {
   "cell_type": "markdown",
   "metadata": {
    "slideshow": {
     "slide_type": "slide"
    }
   },
   "source": [
    "### Quadratic Basis\n",
    "\n",
    "-   Basis functions can be global. E.g. quadratic basis:\n",
    "    $$\\boldsymbol{\\phi} = [1, x, x^2]$$\n",
    "    \n"
   ]
  },
  {
   "cell_type": "code",
   "execution_count": 7,
   "metadata": {
    "collapsed": false
   },
   "outputs": [
    {
     "ename": "AttributeError",
     "evalue": "module 'pods.notebook' has no attribute 'display_plots'",
     "output_type": "error",
     "traceback": [
      "\u001b[0;31m---------------------------------------------------------------------------\u001b[0m",
      "\u001b[0;31mAttributeError\u001b[0m                            Traceback (most recent call last)",
      "\u001b[0;32m<ipython-input-7-52f25306d4bd>\u001b[0m in \u001b[0;36m<module>\u001b[0;34m()\u001b[0m\n\u001b[0;32m----> 1\u001b[0;31m \u001b[0mpods\u001b[0m\u001b[0;34m.\u001b[0m\u001b[0mnotebook\u001b[0m\u001b[0;34m.\u001b[0m\u001b[0mdisplay_plots\u001b[0m\u001b[0;34m(\u001b[0m\u001b[0;34m'polynomial_basis{num_basis:0>3}.svg'\u001b[0m\u001b[0;34m,\u001b[0m \u001b[0mdirectory\u001b[0m\u001b[0;34m=\u001b[0m\u001b[0;34m'./diagrams'\u001b[0m\u001b[0;34m,\u001b[0m \u001b[0mnum_basis\u001b[0m\u001b[0;34m=\u001b[0m\u001b[0;34m(\u001b[0m\u001b[0;36m1\u001b[0m\u001b[0;34m,\u001b[0m\u001b[0;36m3\u001b[0m\u001b[0;34m)\u001b[0m\u001b[0;34m)\u001b[0m\u001b[0;34m\u001b[0m\u001b[0m\n\u001b[0m",
      "\u001b[0;31mAttributeError\u001b[0m: module 'pods.notebook' has no attribute 'display_plots'"
     ]
    }
   ],
   "source": [
    "pods.notebook.display_plots('polynomial_basis{num_basis:0>3}.svg', directory='./diagrams', num_basis=(1,3))"
   ]
  },
  {
   "cell_type": "markdown",
   "metadata": {
    "slideshow": {
     "slide_type": "slide"
    }
   },
   "source": [
    "### Functions Derived from Quadratic Basis\n",
    "\n",
    "$$f(x) = {\\color{\\redColor}w_0} + {\\color{\\magentaColor}w_1x} + {\\color{\\blueColor}w_2 x^2}$$\n",
    "\n"
   ]
  },
  {
   "cell_type": "code",
   "execution_count": 8,
   "metadata": {
    "collapsed": false
   },
   "outputs": [
    {
     "ename": "AttributeError",
     "evalue": "module 'pods.notebook' has no attribute 'display_plots'",
     "output_type": "error",
     "traceback": [
      "\u001b[0;31m---------------------------------------------------------------------------\u001b[0m",
      "\u001b[0;31mAttributeError\u001b[0m                            Traceback (most recent call last)",
      "\u001b[0;32m<ipython-input-8-29d575635317>\u001b[0m in \u001b[0;36m<module>\u001b[0;34m()\u001b[0m\n\u001b[0;32m----> 1\u001b[0;31m \u001b[0mpods\u001b[0m\u001b[0;34m.\u001b[0m\u001b[0mnotebook\u001b[0m\u001b[0;34m.\u001b[0m\u001b[0mdisplay_plots\u001b[0m\u001b[0;34m(\u001b[0m\u001b[0;34m'polynomial_function{func_num:0>3}.svg'\u001b[0m\u001b[0;34m,\u001b[0m \u001b[0mdirectory\u001b[0m\u001b[0;34m=\u001b[0m\u001b[0;34m'./diagrams'\u001b[0m\u001b[0;34m,\u001b[0m \u001b[0mfunc_num\u001b[0m\u001b[0;34m=\u001b[0m\u001b[0;34m(\u001b[0m\u001b[0;36m1\u001b[0m\u001b[0;34m,\u001b[0m\u001b[0;36m3\u001b[0m\u001b[0;34m)\u001b[0m\u001b[0;34m)\u001b[0m\u001b[0;34m\u001b[0m\u001b[0m\n\u001b[0m",
      "\u001b[0;31mAttributeError\u001b[0m: module 'pods.notebook' has no attribute 'display_plots'"
     ]
    }
   ],
   "source": [
    "pods.notebook.display_plots('polynomial_function{func_num:0>3}.svg', directory='./diagrams', func_num=(1,3))"
   ]
  },
  {
   "cell_type": "code",
   "execution_count": 9,
   "metadata": {
    "collapsed": false,
    "slideshow": {
     "slide_type": "skip"
    }
   },
   "outputs": [
    {
     "ename": "NameError",
     "evalue": "name 'plt' is not defined",
     "output_type": "error",
     "traceback": [
      "\u001b[0;31m---------------------------------------------------------------------------\u001b[0m",
      "\u001b[0;31mNameError\u001b[0m                                 Traceback (most recent call last)",
      "\u001b[0;32m<ipython-input-9-b415a1917594>\u001b[0m in \u001b[0;36m<module>\u001b[0;34m()\u001b[0m\n\u001b[0;32m----> 1\u001b[0;31m \u001b[0mf\u001b[0m\u001b[0;34m,\u001b[0m \u001b[0max\u001b[0m \u001b[0;34m=\u001b[0m \u001b[0mplt\u001b[0m\u001b[0;34m.\u001b[0m\u001b[0msubplots\u001b[0m\u001b[0;34m(\u001b[0m\u001b[0mfigsize\u001b[0m\u001b[0;34m=\u001b[0m\u001b[0;34m(\u001b[0m\u001b[0;36m7\u001b[0m\u001b[0;34m,\u001b[0m \u001b[0;36m7\u001b[0m\u001b[0;34m)\u001b[0m\u001b[0;34m)\u001b[0m\u001b[0;34m\u001b[0m\u001b[0m\n\u001b[0m\u001b[1;32m      2\u001b[0m \u001b[0;34m\u001b[0m\u001b[0m\n\u001b[1;32m      3\u001b[0m loc = [[-1.25, -0.4],\n\u001b[1;32m      4\u001b[0m        \u001b[0;34m[\u001b[0m\u001b[0;36m0.\u001b[0m\u001b[0;34m,\u001b[0m \u001b[0;36m1.25\u001b[0m\u001b[0;34m]\u001b[0m\u001b[0;34m,\u001b[0m\u001b[0;34m\u001b[0m\u001b[0m\n\u001b[1;32m      5\u001b[0m        [1.25, -0.4]]\n",
      "\u001b[0;31mNameError\u001b[0m: name 'plt' is not defined"
     ]
    }
   ],
   "source": [
    "f, ax = plt.subplots(figsize=(7, 7))\n",
    "\n",
    "loc = [[-1.25, -0.4],\n",
    "       [0., 1.25],\n",
    "       [1.25, -0.4]]\n",
    "text = ['$\\phi_1(x) = e^{-(x + 1)^2}$',\n",
    "        '$\\phi_2(x) = e^{-2x^2}$', \n",
    "        '$\\phi_3(x) = e^{-2(x-1)^2}$']\n",
    "mlai.plot_basis(mlai.radial, x_min=-2, x_max=2, fig=f, ax=ax, loc=loc, text=text)    \n"
   ]
  },
  {
   "cell_type": "markdown",
   "metadata": {
    "slideshow": {
     "slide_type": "slide"
    }
   },
   "source": [
    "### Radial Basis Functions\n",
    "\n",
    "-   Or they can be local. E.g. radial (or Gaussian) basis\n",
    "    $$\\phi_j(x) = \\exp\\left(-\\frac{(x-\\mu_j)^2}{\\ell^2}\\right)$$\n"
   ]
  },
  {
   "cell_type": "code",
   "execution_count": 10,
   "metadata": {
    "collapsed": false
   },
   "outputs": [
    {
     "ename": "AttributeError",
     "evalue": "module 'pods.notebook' has no attribute 'display_plots'",
     "output_type": "error",
     "traceback": [
      "\u001b[0;31m---------------------------------------------------------------------------\u001b[0m",
      "\u001b[0;31mAttributeError\u001b[0m                            Traceback (most recent call last)",
      "\u001b[0;32m<ipython-input-10-f6afc02c1be2>\u001b[0m in \u001b[0;36m<module>\u001b[0;34m()\u001b[0m\n\u001b[0;32m----> 1\u001b[0;31m \u001b[0mpods\u001b[0m\u001b[0;34m.\u001b[0m\u001b[0mnotebook\u001b[0m\u001b[0;34m.\u001b[0m\u001b[0mdisplay_plots\u001b[0m\u001b[0;34m(\u001b[0m\u001b[0;34m'radial_basis{num_basis:0>3}.svg'\u001b[0m\u001b[0;34m,\u001b[0m \u001b[0mdirectory\u001b[0m\u001b[0;34m=\u001b[0m\u001b[0;34m'./diagrams'\u001b[0m\u001b[0;34m,\u001b[0m \u001b[0mnum_basis\u001b[0m\u001b[0;34m=\u001b[0m\u001b[0;34m(\u001b[0m\u001b[0;36m1\u001b[0m\u001b[0;34m,\u001b[0m\u001b[0;36m3\u001b[0m\u001b[0;34m)\u001b[0m\u001b[0;34m)\u001b[0m\u001b[0;34m\u001b[0m\u001b[0m\n\u001b[0m",
      "\u001b[0;31mAttributeError\u001b[0m: module 'pods.notebook' has no attribute 'display_plots'"
     ]
    }
   ],
   "source": [
    "pods.notebook.display_plots('radial_basis{num_basis:0>3}.svg', directory='./diagrams', num_basis=(1,3))"
   ]
  },
  {
   "cell_type": "markdown",
   "metadata": {
    "slideshow": {
     "slide_type": "slide"
    }
   },
   "source": [
    "### Functions Derived from Radial Basis\n",
    "\n",
    "$$f(x) = {\\color{\\redColor}w_1 e^{-2(x+1)^2}}  + {\\color{\\magentaColor}w_2e^{-2x^2}} + {\\color{\\blueColor}w_3 e^{-2(x-1)^2}}$$"
   ]
  },
  {
   "cell_type": "code",
   "execution_count": 11,
   "metadata": {
    "collapsed": false,
    "slideshow": {
     "slide_type": "-"
    }
   },
   "outputs": [
    {
     "ename": "AttributeError",
     "evalue": "module 'pods.notebook' has no attribute 'display_plots'",
     "output_type": "error",
     "traceback": [
      "\u001b[0;31m---------------------------------------------------------------------------\u001b[0m",
      "\u001b[0;31mAttributeError\u001b[0m                            Traceback (most recent call last)",
      "\u001b[0;32m<ipython-input-11-5cc1ff66d6e0>\u001b[0m in \u001b[0;36m<module>\u001b[0;34m()\u001b[0m\n\u001b[0;32m----> 1\u001b[0;31m \u001b[0mpods\u001b[0m\u001b[0;34m.\u001b[0m\u001b[0mnotebook\u001b[0m\u001b[0;34m.\u001b[0m\u001b[0mdisplay_plots\u001b[0m\u001b[0;34m(\u001b[0m\u001b[0;34m'radial_function{func_num:0>3}.svg'\u001b[0m\u001b[0;34m,\u001b[0m \u001b[0mdirectory\u001b[0m\u001b[0;34m=\u001b[0m\u001b[0;34m'./diagrams'\u001b[0m\u001b[0;34m,\u001b[0m \u001b[0mfunc_num\u001b[0m\u001b[0;34m=\u001b[0m\u001b[0;34m(\u001b[0m\u001b[0;36m1\u001b[0m\u001b[0;34m,\u001b[0m\u001b[0;36m3\u001b[0m\u001b[0;34m)\u001b[0m\u001b[0;34m)\u001b[0m\u001b[0;34m\u001b[0m\u001b[0m\n\u001b[0m",
      "\u001b[0;31mAttributeError\u001b[0m: module 'pods.notebook' has no attribute 'display_plots'"
     ]
    }
   ],
   "source": [
    "pods.notebook.display_plots('radial_function{func_num:0>3}.svg', directory='./diagrams', func_num=(1,3))"
   ]
  },
  {
   "cell_type": "markdown",
   "metadata": {
    "slideshow": {
     "slide_type": "slide"
    }
   },
   "source": [
    "### Basis Function Models\n",
    "\n",
    "-   The *prediction function* is now defined as\n",
    "    $$f(\\mathbf{x}_i) = \\sum_{j=1}^m w_j \\phi_{i, j}$$\n"
   ]
  },
  {
   "cell_type": "markdown",
   "metadata": {
    "slideshow": {
     "slide_type": "slide"
    }
   },
   "source": [
    "## Vector Notation\n",
    "\n",
    "-   Write in vector notation,\n",
    "    $$f(\\mathbf{x}_i) = \\mathbf{w}^\\top \\boldsymbol{\\phi}_i$$"
   ]
  },
  {
   "cell_type": "markdown",
   "metadata": {
    "slideshow": {
     "slide_type": "slide"
    }
   },
   "source": [
    "### Log Likelihood for Basis Function Model\n",
    "\n",
    "-   The likelihood of a single data point is\n",
    "    $$p\\left(y_i|x_i\\right)=\\frac{1}{\\sqrt{2\\pi\\sigma^2}}\\exp\n",
    "        \\left(-\\frac{\\left(y_i-\\mathbf{w}^{\\top}\\boldsymbol{\\phi}_i\\right)^{2}}{2\\sigma^2}\\right).$$"
   ]
  },
  {
   "cell_type": "markdown",
   "metadata": {
    "slideshow": {
     "slide_type": "slide"
    }
   },
   "source": [
    "### Log Likelihood for Basis Function Model\n",
    "\n",
    "-   Leading to a log likelihood for the data set of\n",
    "    $$L(\\mathbf{w},\\sigma^2)= -\\frac{n}{2}\\log \\sigma^2\n",
    "          -\\frac{n}{2}\\log 2\\pi -\\frac{\\sum\n",
    "            _{i=1}^{n}\\left(y_i-\\mathbf{w}^{\\top}\\boldsymbol{\\phi}_i\\right)^{2}}{2\\sigma^2}.$$\n",
    "\n",
    " "
   ]
  },
  {
   "cell_type": "markdown",
   "metadata": {
    "slideshow": {
     "slide_type": "slide"
    }
   },
   "source": [
    "### Objective Function\n",
    "\n",
    "- And a corresponding *objective function* of the form\n",
    "    $$E(\\mathbf{w},\\sigma^2)= \\frac{n}{2}\\log\n",
    "          \\sigma^2 + \\frac{\\sum\n",
    "            _{i=1}^{n}\\left(y_i-\\mathbf{w}^{\\top}\\boldsymbol{\\phi}_i\\right)^{2}}{2\\sigma^2}.$$"
   ]
  },
  {
   "cell_type": "markdown",
   "metadata": {
    "slideshow": {
     "slide_type": "slide"
    }
   },
   "source": [
    "### Expand the Brackets\n",
    "\n",
    "$$\\begin{align}\n",
    "  E(\\mathbf{w},\\sigma^2) =  &\\frac{n}{2}\\log \\sigma^2 + \\frac{1}{2\\sigma^2}\\sum _{i=1}^{n}y_i^{2}-\\frac{1}{\\sigma^2}\\sum _{i=1}^{n}y_i\\mathbf{w}^{\\top}\\boldsymbol{\\phi}_i\\\\ &+\\frac{1}{2\\sigma^2}\\sum _{i=1}^{n}\\mathbf{w}^{\\top}\\boldsymbol{\\phi}_i\\boldsymbol{\\phi}_i^{\\top}\\mathbf{w} +\\text{const}.\\end{align}$$\n",
    " "
   ]
  },
  {
   "cell_type": "markdown",
   "metadata": {
    "slideshow": {
     "slide_type": "slide"
    }
   },
   "source": [
    " ### Expand the Brackets\n",
    " $$ \\begin{align} E(\\mathbf{w}, \\sigma^2) = & \\frac{n}{2}\\log \\sigma^2 + \\frac{1}{2\\sigma^2}\\sum _{i=1}^{n}y_i^{2}-\\frac{1}{\\sigma^2}\n",
    "  \\mathbf{w}^\\top\\sum_{i=1}^{n}\\boldsymbol{\\phi}_i y_i\\\\ & +\\frac{1}{2\\sigma^2} \\mathbf{w}^{\\top}\\left[\\sum\n",
    "    _{i=1}^{n}\\boldsymbol{\\phi}_i\\boldsymbol{\\phi}_i^{\\top}\\right]\\mathbf{w} +\\text{const}.\\end{align}$$"
   ]
  },
  {
   "cell_type": "markdown",
   "metadata": {
    "slideshow": {
     "slide_type": "slide"
    }
   },
   "source": [
    "### Multivariate Derivatives Reminder\n",
    "\n",
    "-   We will need some multivariate calculus.\n",
    "    $$\\frac{\\text{d}\\mathbf{a}^{\\top}\\mathbf{w}}{\\text{d}\\mathbf{w}}=\\mathbf{a}$$\n",
    "    and\n",
    "    $$\\frac{\\text{d}\\mathbf{w}^{\\top}\\mathbf{A}\\mathbf{w}}{\\text{d}\\mathbf{w}}=\\left(\\mathbf{A}+\\mathbf{A}^{\\top}\\right)\\mathbf{w}$$\n",
    "    or if $\\mathbf{A}$ is symmetric (*i.e.*\n",
    "    $\\mathbf{A}=\\mathbf{A}^{\\top}$)\n",
    "    $$\\frac{\\text{d}\\mathbf{w}^{\\top}\\mathbf{A}\\mathbf{w}}{\\text{d}\\mathbf{w}}=2\\mathbf{A}\\mathbf{w}.$$"
   ]
  },
  {
   "cell_type": "markdown",
   "metadata": {
    "slideshow": {
     "slide_type": "slide"
    }
   },
   "source": [
    "### Differentiate\n",
    "\n",
    "Differentiating with respect to the vector $\\mathbf{w}$ we obtain\n",
    "$$\\frac{\\text{d} E\\left(\\mathbf{w},\\sigma^2 \\right)}{\\text{d} \\mathbf{w}}=-\\frac{1}{\\sigma^2} \\sum _{i=1}^{n}\\boldsymbol{\\phi}_iy_i+\\frac{1}{\\sigma^2} \\left[\\sum _{i=1}^{n}\\boldsymbol{\\phi}_i\\boldsymbol{\\phi}_i^{\\top}\\right]\\mathbf{w}$$\n",
    "Leading to\n",
    "$$\\mathbf{w}^{*}=\\left[\\sum _{i=1}^{n}\\boldsymbol{\\phi}_i\\boldsymbol{\\phi}_i^{\\top}\\right]^{-1}\\sum _{i=1}^{n}\\boldsymbol{\\phi}_iy_i,$$"
   ]
  },
  {
   "cell_type": "markdown",
   "metadata": {
    "slideshow": {
     "slide_type": "slide"
    }
   },
   "source": [
    "### Matrix Notation\n",
    "\n",
    "Rewrite in matrix notation:\n",
    "$$\\sum _{i=1}^{n}\\boldsymbol{\\phi}_i\\boldsymbol{\\phi}_i^\\top = \\boldsymbol{\\Phi}^\\top \\boldsymbol{\\Phi}$$\n",
    "$$\\sum _{i=1}^{n}\\boldsymbol{\\phi}_iy_i = \\boldsymbol{\\Phi}^\\top \\mathbf{y}$$"
   ]
  },
  {
   "cell_type": "markdown",
   "metadata": {
    "slideshow": {
     "slide_type": "slide"
    }
   },
   "source": [
    "### Update Equations\n",
    "\n",
    "-   Update for $\\mathbf{w}^{*}$.\n",
    "    $$\\mathbf{w}^{*} = \\left(\\boldsymbol{\\Phi}^\\top \\boldsymbol{\\Phi}\\right)^{-1} \\boldsymbol{\\Phi}^\\top \\mathbf{y}$$\n",
    "\n",
    "-   The equation for $\\left.\\sigma^2\\right.^{*}$ may also be found\n",
    "    $$\\left.\\sigma^2\\right.^{{*}}=\\frac{\\sum _{i=1}^{n}\\left(y_i-\\left.\\mathbf{w}^{*}\\right.^{\\top}\\boldsymbol{\\phi}_i\\right)^{2}}{n}.$$"
   ]
  },
  {
   "cell_type": "markdown",
   "metadata": {
    "slideshow": {
     "slide_type": "slide"
    }
   },
   "source": [
    "### Avoid Direct Inverse\n",
    "\n",
    "- E.g. Solve for $\\mathbf{w}$\n",
    "  $$\\left(\\boldsymbol{\\Phi}^\\top \\boldsymbol{\\Phi}\\right)\\mathbf{w} = \\boldsymbol{\\Phi}^\\top \\mathbf{y}$$\n",
    "  \n",
    "- See `np.linalg.solve`\n",
    "\n",
    "- In practice use $\\mathbf{Q}\\mathbf{R}$ decomposition (see lab class notes)."
   ]
  },
  {
   "cell_type": "markdown",
   "metadata": {
    "slideshow": {
     "slide_type": "slide"
    }
   },
   "source": [
    "### Polynomial Fits to Olympic Data"
   ]
  },
  {
   "cell_type": "code",
   "execution_count": 12,
   "metadata": {
    "collapsed": false,
    "slideshow": {
     "slide_type": "skip"
    }
   },
   "outputs": [
    {
     "ename": "SyntaxError",
     "evalue": "invalid syntax (<ipython-input-12-681eddb3f3e7>, line 23)",
     "output_type": "error",
     "traceback": [
      "\u001b[0;36m  File \u001b[0;32m\"<ipython-input-12-681eddb3f3e7>\"\u001b[0;36m, line \u001b[0;32m23\u001b[0m\n\u001b[0;31m    fig=f, ax=ax)\u001b[0m\n\u001b[0m      ^\u001b[0m\n\u001b[0;31mSyntaxError\u001b[0m\u001b[0;31m:\u001b[0m invalid syntax\n"
     ]
    }
   ],
   "source": [
    "basis = mlai.polynomial\n",
    "\n",
    "data = pods.datasets.olympic_marathon_men()\n",
    "f, ax = plt.subplots(1, 2, figsize=(10,5))\n",
    "x = data['X']\n",
    "y = data['Y']\n",
    "\n",
    "data_limits = [1892, 2020]\n",
    "max_basis = 27\n",
    "\n",
    "ll = np.array([np.nan]*(max_basis))\n",
    "sum_squares = np.array([np.nan]*(max_basis))\n",
    "\n",
    "for num_basis in range(1,max_basis):\n",
    "    \n",
    "    model = mlai.LM(x, y, basis, num_basis=num_basis, data_limits=data_limits)\n",
    "    model.fit()\n",
    "    sum_squares[num_basis-1] = model.objective() \n",
    "    ll[num_basis-1] = model.log_likelihood()\n",
    "    plot.marathon_fit(model=model, data_limits=data_limits, \n",
    "                      objective=sum_squares, objective_ylim=[0,8],\n",
    "                      title='Root Mean Square Training Error'\n",
    "                      fig=f, ax=ax)\n"
   ]
  },
  {
   "cell_type": "code",
   "execution_count": 13,
   "metadata": {
    "collapsed": false,
    "slideshow": {
     "slide_type": "slide"
    }
   },
   "outputs": [
    {
     "ename": "AttributeError",
     "evalue": "module 'pods.notebook' has no attribute 'display_plots'",
     "output_type": "error",
     "traceback": [
      "\u001b[0;31m---------------------------------------------------------------------------\u001b[0m",
      "\u001b[0;31mAttributeError\u001b[0m                            Traceback (most recent call last)",
      "\u001b[0;32m<ipython-input-13-df8c5e23ea95>\u001b[0m in \u001b[0;36m<module>\u001b[0;34m()\u001b[0m\n\u001b[0;32m----> 1\u001b[0;31m \u001b[0mpods\u001b[0m\u001b[0;34m.\u001b[0m\u001b[0mnotebook\u001b[0m\u001b[0;34m.\u001b[0m\u001b[0mdisplay_plots\u001b[0m\u001b[0;34m(\u001b[0m\u001b[0;34m'olympic_LM_polynomial{num_basis:0>3}.svg'\u001b[0m\u001b[0;34m,\u001b[0m \u001b[0mdirectory\u001b[0m\u001b[0;34m=\u001b[0m\u001b[0;34m'./diagrams'\u001b[0m\u001b[0;34m,\u001b[0m \u001b[0mnum_basis\u001b[0m\u001b[0;34m=\u001b[0m\u001b[0;34m(\u001b[0m\u001b[0;36m1\u001b[0m\u001b[0;34m,\u001b[0m\u001b[0mmax_basis\u001b[0m\u001b[0;34m)\u001b[0m\u001b[0;34m)\u001b[0m\u001b[0;34m\u001b[0m\u001b[0m\n\u001b[0m",
      "\u001b[0;31mAttributeError\u001b[0m: module 'pods.notebook' has no attribute 'display_plots'"
     ]
    }
   ],
   "source": [
    "pods.notebook.display_plots('olympic_LM_polynomial{num_basis:0>3}.svg', directory='./diagrams', num_basis=(1,max_basis))"
   ]
  },
  {
   "cell_type": "markdown",
   "metadata": {
    "slideshow": {
     "slide_type": "slide"
    }
   },
   "source": [
    "#### Reading\n",
    "\n",
    "- Section 1.4 of @Rogers:book11.\n",
    "- Chapter 1, pg 1-6 of @Bishop:book06.\n",
    "- Chapter 3, Section 3.1 of @Bishop:book06 up to pg 143.\n",
    "\n",
    " "
   ]
  },
  {
   "cell_type": "code",
   "execution_count": null,
   "metadata": {
    "collapsed": true
   },
   "outputs": [],
   "source": []
  },
  {
   "cell_type": "code",
   "execution_count": null,
   "metadata": {
    "collapsed": true
   },
   "outputs": [],
   "source": []
  }
 ],
 "metadata": {
  "anaconda-cloud": {},
  "celltoolbar": "Slideshow",
  "kernelspec": {
   "display_name": "Python [Root]",
   "language": "python",
   "name": "Python [Root]"
  },
  "language_info": {
   "codemirror_mode": {
    "name": "ipython",
    "version": 3
   },
   "file_extension": ".py",
   "mimetype": "text/x-python",
   "name": "python",
   "nbconvert_exporter": "python",
   "pygments_lexer": "ipython3",
   "version": "3.5.2"
  }
 },
 "nbformat": 4,
 "nbformat_minor": 0
}
