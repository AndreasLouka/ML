{
 "cells": [
  {
   "cell_type": "markdown",
   "metadata": {},
   "source": [
    "# Generalization and Model Validation"
   ]
  },
  {
   "cell_type": "code",
   "execution_count": null,
   "metadata": {
    "collapsed": false
   },
   "outputs": [],
   "source": [
    "import numpy as np\n",
    "import pods\n",
    "data = pods.datasets.olympic_marathon_men()\n",
    "x = data['X']\n",
    "y = data['Y']\n",
    "\n",
    "%matplotlib inline\n",
    "import pylab as plt"
   ]
  },
  {
   "cell_type": "markdown",
   "metadata": {},
   "source": [
    "### Question 1: Sample Code"
   ]
  },
  {
   "cell_type": "code",
   "execution_count": null,
   "metadata": {
    "collapsed": false
   },
   "outputs": [],
   "source": [
    "#### Question 1 Answer Code\n",
    "# Write code for you answer to this question in this box\n",
    "# Do not delete these comments, otherwise you will get zero for this answer.\n",
    "# Make sure your code has run and the answer is correct *before* submitting your notebook for marking.\n",
    "\n",
    "def linear(x):\n",
    "    return np.hstack([x, np.ones((len(x), 1))])\n",
    "\n",
    "def prediction(w, x, basis):\n",
    "    Phi = basis(x)\n",
    "    f = np.dot(Phi, w)\n",
    "    return f\n",
    "\n",
    "def objective(w, x, y, basis):\n",
    "    Phi = basis(x)\n",
    "    f = np.dot(Phi, w)\n",
    "    diff = y - f\n",
    "    e = np.dot((y - f).T, (y - f))\n",
    "    return  e\n",
    "\n",
    "def fit(x, y, basis):\n",
    "    Phi = basis(x)\n",
    "    w = np.linalg.solve(np.dot(Phi.T, Phi), np.dot(Phi.T,y))\n",
    "    return w\n",
    "\n",
    "# linear fit with marathon data\n",
    "w = fit(x, y, linear)\n",
    "f = prediction(w, x, linear)\n",
    "e = objective(w, x, y, linear)\n",
    "\n",
    "plt.plot(x, y, 'rx')\n",
    "plt.plot(x, f, 'b-')\n",
    "plt.axis([1890, 2020, 2.5, 5.5])\n",
    "plt.title(\"error: %f\" %(e))"
   ]
  },
  {
   "cell_type": "markdown",
   "metadata": {},
   "source": [
    "### Question 2: Sample Code"
   ]
  },
  {
   "cell_type": "code",
   "execution_count": null,
   "metadata": {
    "collapsed": false
   },
   "outputs": [],
   "source": [
    "#### Question 2 Answer Code\n",
    "# Write code for you answer to this question in this box\n",
    "# Do not delete these comments, otherwise you will get zero for this answer.\n",
    "# Make sure your code has run and the answer is correct *before* submitting your notebook for marking.\n",
    "\n",
    "def quadratic(x):\n",
    "    Phi = np.hstack([np.ones((len(x), 1)), x, x**2])\n",
    "    return Phi\n",
    "\n",
    "# quadratic fit with marathon data\n",
    "w = fit(x, y, quadratic)\n",
    "f = prediction(w, x, quadratic)\n",
    "e = objective(w, x, y, quadratic)\n",
    "\n",
    "plt.plot(x, y, 'rx')\n",
    "plt.plot(x, f, 'b-')\n",
    "plt.axis([1890, 2020, 2.5, 5.5])\n",
    "plt.title(\"error: %f\" %(e))"
   ]
  },
  {
   "cell_type": "markdown",
   "metadata": {},
   "source": [
    "### Question 3: Sample Code"
   ]
  },
  {
   "cell_type": "code",
   "execution_count": null,
   "metadata": {
    "collapsed": false
   },
   "outputs": [],
   "source": [
    "#### Question 3 Answer Code\n",
    "# Write code for you answer to this question in this box\n",
    "# Do not delete these comments, otherwise you will get zero for this answer.\n",
    "# Make sure your code has run and the answer is correct *before* submitting your notebook for marking.\n",
    "\n",
    "# select indices of data to 'hold out'\n",
    "indices_hold_out = np.flatnonzero(x>1980)\n",
    "\n",
    "# training set\n",
    "x_train = np.delete(x, indices_hold_out, axis=0)\n",
    "y_train = np.delete(y, indices_hold_out, axis=0)\n",
    "\n",
    "# hold out set\n",
    "x_valid = np.take(x, indices_hold_out, axis=0)\n",
    "y_valid = np.take(y, indices_hold_out, axis=0)\n",
    "\n",
    "# linear fit\n",
    "w_train_linear = fit(x_train, y_train, linear)\n",
    "f_train_linear = prediction(w_train_linear, x, linear)\n",
    "e_valid_linear = objective(w_train_linear, x_valid, y_valid, linear)\n",
    "\n",
    "# quadratic fit\n",
    "w_train_quadratic = fit(x_train, y_train, quadratic)\n",
    "f_train_quadratic = prediction(w_train_quadratic, x, quadratic)\n",
    "e_valid_quadratic = objective(w_train_quadratic, x_valid, y_valid, quadratic)\n",
    "\n",
    "# print & plot\n",
    "print('e_valid_linear', e_valid_linear, 'e_valid_quadratic', e_valid_quadratic,'quadratic function perform better')\n",
    "\n",
    "plt.plot(x_train, y_train, 'rx')\n",
    "plt.plot(x_valid, y_valid, 'gx')\n",
    "plt.plot(x, f_train_linear, 'y-')\n",
    "plt.plot(x, f_train_quadratic, 'b-')\n",
    "plt.axis([1890, 2020, 2.5, 5.5])\n",
    "plt.title('e_valid_linear %f  e_valid_quadratic %f'%(e_valid_linear, e_valid_quadratic))"
   ]
  },
  {
   "cell_type": "markdown",
   "metadata": {},
   "source": [
    "### Question 4 Sample Code"
   ]
  },
  {
   "cell_type": "code",
   "execution_count": null,
   "metadata": {
    "collapsed": false
   },
   "outputs": [],
   "source": [
    "#### Question 4 Answer Code\n",
    "# Write code for you answer to this question in this box\n",
    "# Do not delete these comments, otherwise you will get zero for this answer.\n",
    "# Make sure your code has run and the answer is correct *before* submitting your notebook for marking.\n",
    "\n",
    "def polynomial(x, degree, loc, scale):\n",
    "    degrees = np.arange(degree+1)\n",
    "    return ((x-loc)/scale)**degrees\n",
    "\n",
    "def prediction(w, x, basis={'function':polynomial, 'degree':1, 'loc':0., 'scale':10.}):\n",
    "    Phi = basis['function'](x, basis['degree'], basis['loc'], basis['scale'])    \n",
    "    return np.dot(Phi,w)\n",
    "\n",
    "def objective(w, x, y, basis={'function':polynomial, 'degree':1, 'loc':0., 'scale':10.}):\n",
    "    Phi = basis['function'](x, basis['degree'], basis['loc'], basis['scale'])\n",
    "    return ((y - np.dot(Phi,w))**2).sum()\n",
    "\n",
    "def fit(x, y, basis={'function':polynomial, 'degree':1, 'loc':0., 'scale':10.}):\n",
    "    Phi = basis['function'](x, basis['degree'], basis['loc'], basis['scale'])\n",
    "    w = np.linalg.solve(np.dot(Phi.T, Phi), np.dot(Phi.T, y))\n",
    "    return w\n",
    "\n",
    "# polynomial fit\n",
    "degree_range = [0, 17]\n",
    "degrees = np.arange(degree_range[0], degree_range[1] + 1)\n",
    "train_err = np.zeros(degree_range[1] - degree_range[0] + 1)\n",
    "hold_err = np.zeros(degree_range[1] - degree_range[0] + 1)\n",
    "for degree in degrees:\n",
    "    basis = {'function':polynomial, 'degree':degree, 'loc':1956., 'scale':120.}\n",
    "    w = fit(x_train, y_train, basis)\n",
    "    train_err[degree] = objective(w, x_train, y_train, basis)\n",
    "    hold_err[degree] = objective(w, x_valid, y_valid, basis)\n",
    "\n",
    "# print & plot\n",
    "plt.figure()\n",
    "plt.plot(degrees, train_err, 'r*')\n",
    "plt.ylabel('Training Error')\n",
    "plt.xlabel('Max degree of polynomial')\n",
    "\n",
    "plt.figure()\n",
    "plt.semilogy(degrees, hold_err, 'b*')\n",
    "plt.ylabel('Validation Error (log scale)')\n",
    "plt.xlabel('Max degree of polynomial')\n",
    "\n",
    "print('Degree of polynomial with minimum training error : ', train_err.argmin())\n",
    "print('Degree of polynomial with minimum validation error : ', hold_err.argmin())"
   ]
  },
  {
   "cell_type": "markdown",
   "metadata": {},
   "source": [
    "### Question 5: Sample Code"
   ]
  },
  {
   "cell_type": "code",
   "execution_count": null,
   "metadata": {
    "collapsed": false
   },
   "outputs": [],
   "source": [
    "#### Question 5 Answer Code\n",
    "# Write code for you answer to this question in this box\n",
    "# Do not delete these comments, otherwise you will get zero for this answer.\n",
    "# Make sure your code has run and the answer is correct *before* submitting your notebook for marking.\n",
    "\n",
    "degree_range = [0, 17]\n",
    "degrees = np.arange(degree_range[0], degree_range[1] + 1)\n",
    "train_err = np.zeros(degree_range[1] - degree_range[0] + 1)\n",
    "hold_err = np.zeros(degree_range[1] - degree_range[0] + 1)\n",
    "\n",
    "for degree in degrees:\n",
    "    basis = {'function':polynomial, 'degree':degree, 'loc':1956., 'scale':120.}\n",
    "    train_err_local = np.zeros(x.shape[0])\n",
    "    hold_err_local = np.zeros(x.shape[0])\n",
    "    \n",
    "    for idx in range(0, x.shape[0]):\n",
    "        # training set\n",
    "        x_train = np.delete(x, idx, axis=0)\n",
    "        y_train = np.delete(y, idx, axis=0)\n",
    "\n",
    "        # hold out set\n",
    "        x_valid = x[idx]\n",
    "        y_valid = y[idx]\n",
    "        \n",
    "        w = fit(x_train, y_train, basis)\n",
    "        x_pred = np.linspace(1890, 2020, 200)[:,None]\n",
    "        y_pred = prediction(w, x_pred, basis)\n",
    "        train_err_local[idx] = objective(w, x_train, y_train, basis)\n",
    "        hold_err_local[idx] = objective(w, x_valid, y_valid, basis)\n",
    "    \n",
    "    train_err[degree] = train_err_local.mean()\n",
    "    hold_err[degree] = hold_err_local.mean()\n",
    "\n",
    "# print and plot\n",
    "plt.figure()\n",
    "plt.plot(degrees, train_err, 'r*')\n",
    "plt.ylabel('Training Error')\n",
    "plt.xlabel('Max degree of polynomial')\n",
    "\n",
    "plt.figure()\n",
    "plt.semilogy(degrees, hold_err, 'b*')\n",
    "plt.ylabel('Validation Error (log scale)')\n",
    "plt.xlabel('Max degree of polynomial')\n",
    "\n",
    "print('Degree of polynomial with minimum training error : ', train_err.argmin())\n",
    "print('Degree of polynomial with minimum validation error : ', hold_err.argmin())"
   ]
  },
  {
   "cell_type": "markdown",
   "metadata": {},
   "source": [
    "### Question 6: Sample Code"
   ]
  },
  {
   "cell_type": "code",
   "execution_count": null,
   "metadata": {
    "collapsed": false
   },
   "outputs": [],
   "source": [
    "#### Question 6 Answer Code\n",
    "# Write code for you answer to this question in this box\n",
    "# Do not delete these comments, otherwise you will get zero for this answer.\n",
    "# Make sure your code has run and the answer is correct *before* submitting your notebook for marking.\n",
    "\n",
    "# 5-fold cross validation\n",
    "k = 5\n",
    "fold_size = int(x.shape[0]/k)\n",
    "num_extra_pts = x.shape[0]%k\n",
    "\n",
    "folds = []\n",
    "idx_rand = np.random.permutation(np.arange(x.shape[0]))\n",
    "\n",
    "for idx in range(k):\n",
    "    if num_extra_pts > 0:\n",
    "        folds += [idx_rand[idx*fold_size : (idx+1)*fold_size + 1]]\n",
    "        num_extra_pts -= 1\n",
    "    else:\n",
    "        folds += [idx_rand[idx*fold_size : (idx+1)*fold_size]]\n",
    "\n",
    "degree_range = [0, 17]\n",
    "degrees = np.arange(degree_range[0], degree_range[1] + 1)\n",
    "train_err = np.zeros(degree_range[1] - degree_range[0] + 1)\n",
    "hold_err = np.zeros(degree_range[1] - degree_range[0] + 1)\n",
    "\n",
    "for degree in degrees:\n",
    "    basis = {'function':polynomial, 'degree':degree, 'loc':1956., 'scale':120.}\n",
    "    train_err_local = np.zeros(x.shape[0])\n",
    "    hold_err_local = np.zeros(x.shape[0])\n",
    "    \n",
    "    for idx in range(k):\n",
    "        # training set\n",
    "        x_train = np.delete(x, folds[idx], axis=0)\n",
    "        y_train = np.delete(y, folds[idx], axis=0)\n",
    "\n",
    "        # hold out set\n",
    "        x_valid = np.take(x, folds[idx], axis=0)\n",
    "        y_valid = np.take(y, folds[idx], axis=0)\n",
    "        \n",
    "        w = fit(x_train, y_train, basis)\n",
    "        y_pred = prediction(w, x_pred, basis)\n",
    "        train_err_local[idx] = objective(w, x_train, y_train, basis)\n",
    "        hold_err_local[idx] = objective(w, x_valid, y_valid, basis)\n",
    "    \n",
    "    train_err[degree] = train_err_local.mean()\n",
    "    hold_err[degree] = hold_err_local.mean()\n",
    "\n",
    "# print & plot\n",
    "plt.figure()\n",
    "plt.plot(degrees, train_err, 'r*')\n",
    "plt.ylabel('Training Error')\n",
    "plt.xlabel('Max degree of polynomial')\n",
    "\n",
    "plt.figure()\n",
    "plt.semilogy(degrees, hold_err, 'b*')\n",
    "plt.ylabel('Validation Error (log scale)')\n",
    "plt.xlabel('Max degree of polynomial')\n",
    "\n",
    "print('Degree of polynomial with minimum training error : ', train_err.argmin())\n",
    "print('Degree of polynomial with minimum validation error : ', hold_err.argmin())\n",
    "\n",
    "print('The 5-fold cross validation DOES NOT always select the same model')"
   ]
  }
 ],
 "metadata": {
  "anaconda-cloud": {},
  "kernelspec": {
   "display_name": "Python [Root]",
   "language": "python",
   "name": "Python [Root]"
  },
  "language_info": {
   "codemirror_mode": {
    "name": "ipython",
    "version": 3
   },
   "file_extension": ".py",
   "mimetype": "text/x-python",
   "name": "python",
   "nbconvert_exporter": "python",
   "pygments_lexer": "ipython3",
   "version": "3.5.2"
  }
 },
 "nbformat": 4,
 "nbformat_minor": 0
}
