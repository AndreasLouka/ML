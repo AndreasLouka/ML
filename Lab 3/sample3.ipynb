{
 "cells": [
  {
   "cell_type": "markdown",
   "metadata": {},
   "source": [
    "# Linear Algebra and Linear Regression"
   ]
  },
  {
   "cell_type": "code",
   "execution_count": null,
   "metadata": {
    "collapsed": false
   },
   "outputs": [],
   "source": [
    "import pods\n",
    "data = pods.datasets.olympic_marathon_men()\n",
    "x = data['X']\n",
    "y = data['Y']"
   ]
  },
  {
   "cell_type": "markdown",
   "metadata": {},
   "source": [
    "### Question 3: Example Code\n",
    "\n",
    "The algorithm can only update either m or c at a time. This 'staircasing' can take a lot of iterations to reach the final point as the updates are very small."
   ]
  },
  {
   "cell_type": "code",
   "execution_count": null,
   "metadata": {
    "collapsed": false
   },
   "outputs": [],
   "source": [
    "# Question 3 Answer Code\n",
    "# Write code for you answer to this question in this box\n",
    "# Do not delete these comments, otherwise you will get zero for this answer.\n",
    "# Make sure your code has run and the answer is correct *before* submitting your notebook for marking.\n",
    "\n",
    "%matplotlib inline\n",
    "import numpy as np\n",
    "import pylab as plt\n",
    "\n",
    "def objective(x, y, m, c):\n",
    "    return ((y - m*x - c) ** 2).sum()\n",
    "\n",
    "def iterate(x, y, m, c, stop_at):\n",
    "    obj = 0\n",
    "    diff = float('Inf')\n",
    "    i = 0\n",
    "    while diff >= stop_at:\n",
    "        m = ((y - c)*x).sum()/(x*x).sum()\n",
    "        c = (y-m*x).sum()/y.shape[0]\n",
    "        if i % 10 == 0:\n",
    "            obj_new = objective(x, y, m, c)\n",
    "            diff = abs(obj - obj_new)\n",
    "            obj = obj_new\n",
    "        i += 1\n",
    "    print(\"{0} iterations with objective function value {1}\".format(i, obj))\n",
    "    print(\"m = {0}\".format(m))\n",
    "    print(\"c = {0}\".format(c))\n",
    "    return m, c\n",
    "\n",
    "def plot(m, c):\n",
    "    x_test = np.linspace(1890, 2020, 130)[:, None]\n",
    "    f_test = m * x_test + c\n",
    "    plt.plot(x_test, f_test, 'b-')\n",
    "    plt.plot(x, y, 'rx')\n",
    "    plt.xlabel('year')\n",
    "    plt.ylabel('pace in min/km')\n",
    "    \n",
    "m = -0.4\n",
    "c = 80\n",
    "plot(*iterate(x, y, m, c, 10 ** (-4)))"
   ]
  },
  {
   "cell_type": "markdown",
   "metadata": {},
   "source": [
    "### Question 4: Maths"
   ]
  },
  {
   "cell_type": "markdown",
   "metadata": {},
   "source": [
    "The objective function is\n",
    "$$\n",
    "  E = \\sum_{i,j} s_{i,j}(y_{i,j} - f_{i,j})^2\n",
    "    = \\sum_{i=1}^n \\sum_{j=1}^m s_{i,j}(y_{i,j} - f_{i,j})^2\n",
    "    = \\sum_{i=1}^n \\begin{bmatrix} (y_{i,1}-f_{i,1}) & \\dots & (y_{i,m}-f_{i,m}) \\end{bmatrix} \n",
    "      \\begin{bmatrix} s_{i,1} & \\dots & 0 \\\\ \\vdots & \\ddots & \\vdots \\\\ 0 & \\dots & s_{i,m} \\end{bmatrix}\n",
    "      \\begin{bmatrix} y_{i,1}-f_{i,1} \\\\ \\vdots \\\\ y_{i,m}-f_{i,m} \\end{bmatrix}\n",
    "    = \\sum_{i=1}^n (\\mathbf{y}_i-\\mathbf{f}_i)^\\top \\mathbf{s}_i (\\mathbf{y}_i-\\mathbf{f}_i)\n",
    "$$\n",
    "where we define a column vector $\\mathbf{y}_i-\\mathbf{f}_i$ and a diagonal matrix $\\mathbf{s}_i$ :\n",
    "$$\n",
    "  \\mathbf{y}_i-\\mathbf{f}_i = \\begin{bmatrix} y_{i,1}-f_{i,1} \\\\ \\vdots \\\\ y_{i,m}-f_{i,m} \\end{bmatrix} ,\n",
    "  \\qquad\n",
    "  \\mathbf{s}_i = \\begin{bmatrix} s_{i,1} & \\dots & 0 \\\\ \\vdots & \\ddots & \\vdots \\\\ 0 & \\dots & s_{i,m} \\end{bmatrix} .\n",
    "$$\n",
    "Further,\n",
    "$$\n",
    "  \\sum_{i=1}^n (\\mathbf{y}_i-\\mathbf{f}_i)^\\top \\mathbf{s}_i (\\mathbf{y}_i-\\mathbf{f}_i)\n",
    "  = \\begin{bmatrix} (\\mathbf{y}_1-\\mathbf{f}_1)^\\top & \\dots & (\\mathbf{y}_n-\\mathbf{f}_n)^\\top \\end{bmatrix}\n",
    "    \\begin{bmatrix} \\mathbf{s}_1 & \\dots & 0 \\\\ \\vdots & \\ddots & \\vdots \\\\ 0 & \\dots & \\mathbf{s}_n \\end{bmatrix}\n",
    "    \\begin{bmatrix} \\mathbf{y}_1-\\mathbf{f}_1 \\\\ \\vdots \\\\ \\mathbf{y}_n-\\mathbf{f}_n \\end{bmatrix}\n",
    "  = (\\mathbf{Y}-\\mathbf{F})^\\top \\mathbf{S} (\\mathbf{Y}-\\mathbf{F})\n",
    "$$\n",
    "where we define a column vector $\\mathbf{Y}-\\mathbf{F}$ and a diagonal matrix $\\mathbf{S}$ :\n",
    "$$\n",
    "  \\mathbf{Y}-\\mathbf{F} = \\begin{bmatrix} \\mathbf{y}_1-\\mathbf{f}_1 \\\\ \\vdots \\\\ \\mathbf{y}_n-\\mathbf{f}_n \\end{bmatrix} ,\n",
    "  \\qquad\n",
    "  \\mathbf{S} = \\begin{bmatrix} \\mathbf{s}_1 & \\dots & 0 \\\\ \\vdots & \\ddots & \\vdots \\\\ 0 & \\dots & \\mathbf{s}_n \\end{bmatrix} .\n",
    "$$\n",
    "Finally we have $E = (\\mathbf{Y}-\\mathbf{F})^\\top \\mathbf{S} (\\mathbf{Y}-\\mathbf{F})$ ."
   ]
  },
  {
   "cell_type": "markdown",
   "metadata": {},
   "source": [
    "### Question 5: Maths"
   ]
  },
  {
   "cell_type": "markdown",
   "metadata": {},
   "source": [
    "\\begin{align}\n",
    "  \\begin{bmatrix} \\frac{\\partial E(m,c)}{\\partial c} \\\\ \\frac{\\partial E(m,c)}{\\partial m} \\end{bmatrix} \n",
    "    & = \\begin{bmatrix} -2\\sum_{i=1}^n (y_i - mx_i - c) \\\\ -2\\sum_{i=1}^n x_i(y_i - mx_i - c) \\end{bmatrix} \\\\\n",
    "    & = -2\\begin{bmatrix} \\sum_{i=1}^n y_i - \\sum_{i=1}^n (mx_i + c) \\\\\n",
    "        \\sum_{i=1}^n x_iy_i - \\sum_{i=1}^n(mx_i^2 + cx_i) \\end{bmatrix} \\\\\n",
    "    & = -2\\begin{bmatrix} \\sum_{i=1}^n y_i \\\\ \\sum_{i=1}^n x_iy_i \\end{bmatrix}\n",
    "        +2\\begin{bmatrix} c\\sum_{i=1}^n 1 + m\\sum_{i=1}^n x_i \\\\ c\\sum_{i=1}^n x_i + m\\sum_{i=1}^n x_i^2 \\end{bmatrix} \\\\\n",
    "    & = -2\\begin{bmatrix} \\sum_{i=1}^n y_i \\\\ \\sum_{i=1}^n x_iy_i \\end{bmatrix}\n",
    "        + 2\\begin{bmatrix} \\sum_{i=1}^n 1 + \\sum_{i=1}^n x_i \\\\ \\sum_{i=1}^n x_i + \\sum_{i=1}^n x_i^2 \\end{bmatrix}\n",
    "        \\begin{bmatrix} c \\\\ m \\end{bmatrix} \\\\\n",
    "    & = -2\\begin{bmatrix} 1 & \\dots & 1 \\\\ x_1 & \\dots & x_n \\end{bmatrix}\n",
    "        \\begin{bmatrix} y_1 \\\\ \\vdots \\\\ y_n \\end{bmatrix}\n",
    "        + 2\\begin{bmatrix} 1 & \\dots & 1 \\\\ x_1 & \\dots & x_n \\end{bmatrix}\n",
    "        \\begin{bmatrix} 1 & x_1 \\\\ \\vdots & \\vdots \\\\ 1 & x_n \\end{bmatrix} \\begin{bmatrix} c \\\\ m \\end{bmatrix} \\\\\n",
    "    & = -2\\mathbf{X}^\\top \\mathbf{y} + 2\\mathbf{X}^\\top \\mathbf{X}\\mathbf{w} \\\\\n",
    "    & = \\frac{\\partial E(\\mathbf{w})}{\\partial \\mathbf{w}} \n",
    "\\end{align}"
   ]
  }
 ],
 "metadata": {
  "kernelspec": {
   "display_name": "Python [Root]",
   "language": "python",
   "name": "Python [Root]"
  },
  "language_info": {
   "codemirror_mode": {
    "name": "ipython",
    "version": 3
   },
   "file_extension": ".py",
   "mimetype": "text/x-python",
   "name": "python",
   "nbconvert_exporter": "python",
   "pygments_lexer": "ipython3",
   "version": "3.5.2"
  }
 },
 "nbformat": 4,
 "nbformat_minor": 0
}
